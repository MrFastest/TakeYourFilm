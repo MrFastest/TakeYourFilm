{
 "cells": [
  {
   "cell_type": "code",
   "execution_count": 1,
   "metadata": {},
   "outputs": [
    {
     "name": "stdout",
     "output_type": "stream",
     "text": [
      "File exists! Proceeding to load...\n"
     ]
    }
   ],
   "source": [
    "import os\n",
    "import pandas as pd\n",
    "import numpy as np\n",
    "\n",
    "file_path = \"E:/TakeYourFilm/Dataset/thriller.csv\"  \n",
    "\n",
    "if os.path.exists(file_path):\n",
    "    print(\"File exists! Proceeding to load...\")\n",
    "else:\n",
    "    print(\"File not found! Check the path.\")\n"
   ]
  },
  {
   "cell_type": "code",
   "execution_count": 2,
   "metadata": {},
   "outputs": [
    {
     "name": "stdout",
     "output_type": "stream",
     "text": [
      "✅ Dataset loaded successfully!\n",
      "     movie_id                      movie_name  year certificate  runtime  \\\n",
      "0   tt9114286  Black Panther: Wakanda Forever  2022       PG-13  161 min   \n",
      "1  tt15679400              Knock at the Cabin  2023           R  100 min   \n",
      "2   tt5884796                           Plane  2023           R  107 min   \n",
      "3   tt9764362                        The Menu  2022           R  107 min   \n",
      "4   tt5433140                          Fast X  2023         NaN      NaN   \n",
      "\n",
      "                       genre  rating  \\\n",
      "0   Action, Adventure, Drama     6.9   \n",
      "1  Horror, Mystery, Thriller     6.4   \n",
      "2           Action, Thriller     6.5   \n",
      "3           Horror, Thriller     7.2   \n",
      "4     Action, Crime, Mystery     NaN   \n",
      "\n",
      "                                         description              director  \\\n",
      "0  The people of Wakanda fight to protect their h...          Ryan Coogler   \n",
      "1  While vacationing, a girl and her parents are ...    M. Night Shyamalan   \n",
      "2  A pilot finds himself caught in a war zone aft...  Jean-François Richet   \n",
      "3  A young couple travels to a remote island to e...            Mark Mylod   \n",
      "4  Dom Toretto and his family are targeted by the...       Louis Leterrier   \n",
      "\n",
      "        director_id                                               star  \\\n",
      "0  /name/nm3363032/  Letitia Wright, \\nLupita Nyong'o, \\nDanai Guri...   \n",
      "1  /name/nm0796117/  Dave Bautista, \\nJonathan Groff, \\nRupert Grin...   \n",
      "2  /name/nm0724938/  Gerard Butler, \\nMike Colter, \\nTony Goldwyn, ...   \n",
      "3  /name/nm0617042/  Ralph Fiennes, \\nAnya Taylor-Joy, \\nNicholas H...   \n",
      "4  /name/nm0504642/  Vin Diesel, \\nJordana Brewster, \\nTyrese Gibso...   \n",
      "\n",
      "                                             star_id     votes  gross(in $)  \n",
      "0  /name/nm4004793/,/name/nm2143282/,/name/nm1775...  204835.0          NaN  \n",
      "1  /name/nm1176985/,/name/nm2676147/,/name/nm0342...   17991.0          NaN  \n",
      "2  /name/nm0124930/,/name/nm1591496/,/name/nm0001...   26220.0          NaN  \n",
      "3  /name/nm0000146/,/name/nm5896355/,/name/nm0396...  232052.0          NaN  \n",
      "4  /name/nm0004874/,/name/nm0108287/,/name/nm0879...       NaN          NaN  \n"
     ]
    }
   ],
   "source": [
    "try:\n",
    "    thriller_df = pd.read_csv(file_path, encoding=\"utf-8\")\n",
    "    print(\"✅ Dataset loaded successfully!\")\n",
    "    print(thriller_df.head()) \n",
    "except FileNotFoundError:\n",
    "    print(\"❌ Error: File not found. Check the file path.\")\n",
    "except Exception as e:\n",
    "    print(f\"❌ Error loading file: {e}\")\n",
    "\n",
    "# thriller_df.info()"
   ]
  },
  {
   "cell_type": "code",
   "execution_count": 3,
   "metadata": {},
   "outputs": [
    {
     "data": {
      "text/plain": [
       "'E:/TakeYourFilm/Cleaned_dataset/cleaned_thriller.csv'"
      ]
     },
     "execution_count": 3,
     "metadata": {},
     "output_type": "execute_result"
    }
   ],
   "source": [
    "\n",
    "\n",
    "thriller_df.fillna({\n",
    "    \"year\": \"Unknown\",\n",
    "    \"certificate\": \"Unknown\",\n",
    "    \"runtime\": \"Unknown\",\n",
    "    \"director\": \"Unknown\",\n",
    "    \"star\": \"Unknown\",\n",
    "    \"rating\": 0.0,  \n",
    "    \"votes\": 0.0,\n",
    "    \"gross(in $)\": 0.0\n",
    "}, inplace=True)\n",
    "\n",
    "thriller_df['year'] = pd.to_numeric(thriller_df['year'], errors='coerce').fillna(0).astype(int)\n",
    "\n",
    "thriller_df['runtime'] = thriller_df['runtime'].astype(str)\n",
    "\n",
    "thriller_df['runtime'] = thriller_df['runtime'].str.extract(r'(\\d+)')\n",
    "\n",
    "thriller_df['runtime'] = pd.to_numeric(thriller_df['runtime'], errors='coerce').fillna(0).astype(int)\n",
    "\n",
    "thriller_df['normalized_rating'] = thriller_df['rating'] / 10\n",
    "thriller_df.drop(columns=['director_id', 'star_id'], inplace=True, errors='ignore')\n",
    "\n",
    "thriller_df = thriller_df[thriller_df['genre'].str.contains(\"Thriller\", na=False)]\n",
    "thriller_df[\"genre\"] = 'Thriller'\n",
    "\n",
    "cleaned_file_path = \"E:/TakeYourFilm/Cleaned_dataset/cleaned_thriller.csv\"\n",
    "thriller_df.to_csv(cleaned_file_path, index=False)\n",
    "\n",
    "cleaned_file_path  \n",
    "\n",
    "\n"
   ]
  },
  {
   "cell_type": "code",
   "execution_count": 4,
   "metadata": {},
   "outputs": [
    {
     "name": "stdout",
     "output_type": "stream",
     "text": [
      "Movies only in File 2:\n",
      " Empty DataFrame\n",
      "Columns: [movie_id, movie_name, year, certificate, runtime, genre, rating, description, director, star, votes, gross(in $), normalized_rating]\n",
      "Index: []\n"
     ]
    },
    {
     "data": {
      "text/plain": [
       "8382"
      ]
     },
     "execution_count": 4,
     "metadata": {},
     "output_type": "execute_result"
    }
   ],
   "source": [
    "import pandas as pd\n",
    "\n",
    "# Load both CSV files\n",
    "df1 = pd.read_csv(\"c:/TakeYourFilm/Dataset/thriller.csv\")  # First CSV file\n",
    "df2 = pd.read_csv(\"c:/TakeYourFilm/Cleaned_dataset/cleaned_thriller.csv\")  # Second CSV file\n",
    "\n",
    "# Ensure column names match exactly\n",
    "movie_col = \"movie_name\"  # Change this if your column name is different\n",
    "\n",
    "# Convert to lowercase and strip spaces for better matching\n",
    "df1[movie_col] = df1[movie_col].str.lower().str.strip()\n",
    "df2[movie_col] = df2[movie_col].str.lower().str.strip()\n",
    "\n",
    "# Find movies that exist in both files\n",
    "common_movies = df1[df1[movie_col].isin(df2[movie_col])]\n",
    "\n",
    "# Find movies only in file1\n",
    "unique_to_file1 = df1[~df1[movie_col].isin(df2[movie_col])]\n",
    "\n",
    "# Find movies only in file2\n",
    "unique_to_file2 = df2[~df2[movie_col].isin(df1[movie_col])]\n",
    "\n",
    "# Display results\n",
    "# print(\"Common Movies:\\n\", common_movies)\n",
    "# print(\"Movies only in File 1:\\n\", unique_to_file1.movie_name)\n",
    "print(\"Movies only in File 2:\\n\", unique_to_file2)\n",
    "unique_to_file1[movie_col].count()\n"
   ]
  },
  {
   "cell_type": "code",
   "execution_count": 4,
   "metadata": {},
   "outputs": [
    {
     "name": "stdout",
     "output_type": "stream",
     "text": [
      "Missing movie_name count before handling: 1\n",
      "Missing movie_name count before handling: 0\n"
     ]
    }
   ],
   "source": [
    "df = pd.read_csv(cleaned_file_path, encoding=\"utf-8\")\n",
    "print(\"Missing movie_name count before handling:\", df['movie_name'].isnull().sum())\n",
    "df = df.dropna(subset=['movie_name'])\n",
    "print(\"Missing movie_name count before handling:\", df['movie_name'].isnull().sum())"
   ]
  },
  {
   "cell_type": "code",
   "execution_count": 6,
   "metadata": {},
   "outputs": [],
   "source": [
    "df.to_csv(\"E:/TakeYourFilm/Cleaned_dataset/cleaned_thriller.csv\", index=False)"
   ]
  }
 ],
 "metadata": {
  "kernelspec": {
   "display_name": "Python 3",
   "language": "python",
   "name": "python3"
  },
  "language_info": {
   "codemirror_mode": {
    "name": "ipython",
    "version": 3
   },
   "file_extension": ".py",
   "mimetype": "text/x-python",
   "name": "python",
   "nbconvert_exporter": "python",
   "pygments_lexer": "ipython3",
   "version": "3.12.3"
  }
 },
 "nbformat": 4,
 "nbformat_minor": 2
}
