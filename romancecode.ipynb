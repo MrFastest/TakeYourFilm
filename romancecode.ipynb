{
 "cells": [
  {
   "cell_type": "code",
   "execution_count": 4,
   "metadata": {},
   "outputs": [
    {
     "name": "stdout",
     "output_type": "stream",
     "text": [
      "File exists! Proceeding to load...\n",
      " Dataset loaded successfully!\n",
      "     movie_id                    movie_name  year certificate  runtime  \\\n",
      "0   tt5635026             Peter Pan & Wendy  2023          PG  106 min   \n",
      "1   tt3915174  Puss in Boots: The Last Wish  2022          PG  102 min   \n",
      "2  tt12823454            Your Place or Mine  2023       PG-13  109 min   \n",
      "3   tt5971474            The Little Mermaid  2023          PG      NaN   \n",
      "4  tt15333984       Somebody I Used to Know  2023           R  106 min   \n",
      "\n",
      "                          genre  rating  \\\n",
      "0     Action, Adventure, Comedy     NaN   \n",
      "1  Animation, Adventure, Comedy     7.9   \n",
      "2               Comedy, Romance     5.6   \n",
      "3    Adventure, Family, Fantasy     NaN   \n",
      "4               Comedy, Romance     5.7   \n",
      "\n",
      "                                         description  \\\n",
      "0  Live-action adaptation of J.M. Barrie's classi...   \n",
      "1  When Puss in Boots discovers that his passion ...   \n",
      "2  Two long-distance best friends change each oth...   \n",
      "3  A young mermaid makes a deal with a sea witch,...   \n",
      "4  On a trip to her hometown, workaholic Ally rem...   \n",
      "\n",
      "                          director       director_id  \\\n",
      "0                     David Lowery  /name/nm1108007/   \n",
      "1  Joel Crawford, \\nJanuel Mercado  /name/nm3150455/   \n",
      "2              Aline Brosh McKenna  /name/nm0112459/   \n",
      "3                     Rob Marshall  /name/nm0551128/   \n",
      "4                      Dave Franco  /name/nm2002649/   \n",
      "\n",
      "                                                star  \\\n",
      "0  Alexander Molony, \\nEver Anderson, \\nJoshua Pi...   \n",
      "1  Antonio Banderas, \\nSalma Hayek, \\nHarvey Guil...   \n",
      "2  Reese Witherspoon, \\nAshton Kutcher, \\nZoe Cha...   \n",
      "3  Halle Bailey, \\nJonah Hauer-King, \\nMelissa Mc...   \n",
      "4  Alison Brie, \\nJay Ellis, \\nKiersey Clemons, \\...   \n",
      "\n",
      "                                             star_id    votes  gross(in $)  \n",
      "0  /name/nm9898029/,/name/nm8349839/,/name/nm1101...      NaN          NaN  \n",
      "1  /name/nm2591093/,/name/nm0000104/,/name/nm0000...  93203.0  168464485.0  \n",
      "2  /name/nm0000702/,/name/nm0005110/,/name/nm3856...  26216.0          NaN  \n",
      "3  /name/nm1782991/,/name/nm5999355/,/name/nm0565...      NaN          NaN  \n",
      "4  /name/nm1555340/,/name/nm1337350/,/name/nm4169...   4807.0          NaN  \n"
     ]
    }
   ],
   "source": [
    "import os\n",
    "import pandas as pd\n",
    "import numpy as np\n",
    "\n",
    "file_path = \"E:/TakeYourFilm/Dataset/romance.csv\"  \n",
    "\n",
    "if os.path.exists(file_path):\n",
    "    print(\"File exists! Proceeding to load...\")\n",
    "else:\n",
    "    print(\"File not found! Check the path.\")\n",
    "\n",
    "\n",
    "try:\n",
    "    romance_df = pd.read_csv(file_path, encoding=\"utf-8\")\n",
    "    print(\" Dataset loaded successfully!\")\n",
    "    print(romance_df.head())  \n",
    "except FileNotFoundError:\n",
    "    print(\" Error: File not found. Check the file path.\")\n",
    "except Exception as e:\n",
    "    print(f\" Error loading file: {e}\")"
   ]
  },
  {
   "cell_type": "code",
   "execution_count": 5,
   "metadata": {},
   "outputs": [
    {
     "name": "stderr",
     "output_type": "stream",
     "text": [
      "<>:16: SyntaxWarning: invalid escape sequence '\\d'\n",
      "<>:16: SyntaxWarning: invalid escape sequence '\\d'\n",
      "C:\\Users\\Admin\\AppData\\Local\\Temp\\ipykernel_8904\\1310418903.py:16: SyntaxWarning: invalid escape sequence '\\d'\n",
      "  romance_df['runtime'] = romance_df['runtime'].str.extract('(\\d+)')\n"
     ]
    },
    {
     "data": {
      "text/plain": [
       "'E:/TakeYourFilm/Cleaned_dataset/cleaned_romance.csv'"
      ]
     },
     "execution_count": 5,
     "metadata": {},
     "output_type": "execute_result"
    }
   ],
   "source": [
    "\n",
    "\n",
    "romance_df.fillna({\n",
    "    \"year\": \"Unknown\",\n",
    "    \"certificate\": \"Unknown\",\n",
    "    \"runtime\": \"Unknown\",\n",
    "    \"director\": \"Unknown\",\n",
    "    \"star\": \"Unknown\",\n",
    "    \"rating\": 0.0,  \n",
    "    \"votes\": 0.0,\n",
    "    \"gross(in $)\": 0.0\n",
    "}, inplace=True)\n",
    "\n",
    "romance_df['year'] = pd.to_numeric(romance_df['year'], errors='coerce').fillna(0).astype(int)\n",
    "\n",
    "romance_df['runtime'] = romance_df['runtime'].astype(str)\n",
    "\n",
    "romance_df['runtime'] = romance_df['runtime'].str.extract('(\\d+)')\n",
    "\n",
    "romance_df['runtime'] = pd.to_numeric(romance_df['runtime'], errors='coerce').fillna(0).astype(int)\n",
    "\n",
    "romance_df['normalized_rating'] = romance_df['rating'] / 10\n",
    "romance_df.drop(columns=['director_id'],inplace=True)\n",
    "romance_df.drop(columns=['star_id'],inplace=True)\n",
    "\n",
    "\n",
    "romance_df = romance_df[romance_df['genre'].str.contains(\"Romance\", na=False)]\n",
    "romance_df[\"genre\"] = 'Romance'\n",
    "\n",
    "cleaned_file_path = \"E:/TakeYourFilm/Cleaned_dataset/cleaned_romance.csv\"\n",
    "romance_df.to_csv(cleaned_file_path, index=False)\n",
    "\n",
    "cleaned_file_path \n",
    "\n"
   ]
  },
  {
   "cell_type": "code",
   "execution_count": 6,
   "metadata": {},
   "outputs": [
    {
     "name": "stdout",
     "output_type": "stream",
     "text": [
      "Missing movie_name count before handling: 0\n",
      "Missing movie_name count before handling: 0\n"
     ]
    }
   ],
   "source": [
    "df = pd.read_csv(cleaned_file_path, encoding=\"utf-8\")\n",
    "print(\"Missing movie_name count before handling:\", df['movie_name'].isnull().sum())\n",
    "df = df.dropna(subset=['movie_name'])\n",
    "print(\"Missing movie_name count before handling:\", df['movie_name'].isnull().sum())"
   ]
  }
 ],
 "metadata": {
  "kernelspec": {
   "display_name": "Python 3",
   "language": "python",
   "name": "python3"
  },
  "language_info": {
   "codemirror_mode": {
    "name": "ipython",
    "version": 3
   },
   "file_extension": ".py",
   "mimetype": "text/x-python",
   "name": "python",
   "nbconvert_exporter": "python",
   "pygments_lexer": "ipython3",
   "version": "3.12.3"
  }
 },
 "nbformat": 4,
 "nbformat_minor": 2
}
