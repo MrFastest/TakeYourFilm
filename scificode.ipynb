{
 "cells": [
  {
   "cell_type": "code",
   "execution_count": 2,
   "metadata": {},
   "outputs": [
    {
     "name": "stdout",
     "output_type": "stream",
     "text": [
      "File exists! Proceeding to load...\n"
     ]
    }
   ],
   "source": [
    "import os\n",
    "import pandas as pd\n",
    "import numpy as np\n",
    "\n",
    "file_path = \"E:/TakeYourFilm/Dataset/scifi.csv\"  \n",
    "\n",
    "if os.path.exists(file_path):\n",
    "    print(\"File exists! Proceeding to load...\")\n",
    "else:\n",
    "    print(\"File not found! Check the path.\")\n"
   ]
  },
  {
   "cell_type": "code",
   "execution_count": 3,
   "metadata": {},
   "outputs": [
    {
     "name": "stdout",
     "output_type": "stream",
     "text": [
      "✅ Dataset loaded successfully!\n",
      "<class 'pandas.core.frame.DataFrame'>\n",
      "RangeIndex: 16557 entries, 0 to 16556\n",
      "Data columns (total 14 columns):\n",
      " #   Column       Non-Null Count  Dtype  \n",
      "---  ------       --------------  -----  \n",
      " 0   movie_id     16557 non-null  object \n",
      " 1   movie_name   16557 non-null  object \n",
      " 2   year         12539 non-null  object \n",
      " 3   certificate  4734 non-null   object \n",
      " 4   runtime      10330 non-null  object \n",
      " 5   genre        16557 non-null  object \n",
      " 6   rating       9045 non-null   float64\n",
      " 7   description  16557 non-null  object \n",
      " 8   director     14467 non-null  object \n",
      " 9   director_id  14467 non-null  object \n",
      " 10  star         12297 non-null  object \n",
      " 11  star_id      12612 non-null  object \n",
      " 12  votes        9045 non-null   float64\n",
      " 13  gross(in $)  1225 non-null   float64\n",
      "dtypes: float64(3), object(11)\n",
      "memory usage: 1.8+ MB\n"
     ]
    }
   ],
   "source": [
    "try:\n",
    "    scifi_df = pd.read_csv(file_path, encoding=\"utf-8\")\n",
    "    print(\"✅ Dataset loaded successfully!\")\n",
    "    # print(scifi_df.head()) \n",
    "except FileNotFoundError:\n",
    "    print(\"❌ Error: File not found. Check the file path.\")\n",
    "except Exception as e:\n",
    "    print(f\"❌ Error loading file: {e}\")\n",
    "\n",
    "scifi_df.info()"
   ]
  },
  {
   "cell_type": "code",
   "execution_count": 6,
   "metadata": {},
   "outputs": [
    {
     "data": {
      "text/plain": [
       "'E:/TakeYourFilm/Cleaned_dataset/cleaned_scifi.csv'"
      ]
     },
     "execution_count": 6,
     "metadata": {},
     "output_type": "execute_result"
    }
   ],
   "source": [
    "\n",
    "\n",
    "scifi_df.fillna({\n",
    "    \"year\": \"Unknown\",\n",
    "    \"certificate\": \"Unknown\",\n",
    "    \"runtime\": \"Unknown\",\n",
    "    \"director\": \"Unknown\",\n",
    "    \"star\": \"Unknown\",\n",
    "    \"rating\": 0.0,  \n",
    "    \"votes\": 0.0,\n",
    "    \"gross(in $)\": 0.0\n",
    "}, inplace=True)\n",
    "\n",
    "scifi_df['year'] = pd.to_numeric(scifi_df['year'], errors='coerce').fillna(0).astype(int)\n",
    "\n",
    "scifi_df['runtime'] = scifi_df['runtime'].astype(str)\n",
    "\n",
    "scifi_df['runtime'] = scifi_df['runtime'].str.extract(r'(\\d+)')\n",
    "\n",
    "scifi_df['runtime'] = pd.to_numeric(scifi_df['runtime'], errors='coerce').fillna(0).astype(int)\n",
    "\n",
    "scifi_df['normalized_rating'] = scifi_df['rating'] / 10\n",
    "scifi_df.drop(columns=['director_id', 'star_id'], inplace=True, errors='ignore')\n",
    "\n",
    "\n",
    "scifi_df = scifi_df[scifi_df['genre'].str.contains(\"Sci-Fi\", na=False)]\n",
    "scifi_df[\"genre\"] = 'Sci-Fi'\n",
    "\n",
    "cleaned_file_path = \"E:/TakeYourFilm/Cleaned_dataset/cleaned_scifi.csv\"\n",
    "scifi_df.to_csv(cleaned_file_path, index=False)\n",
    "\n",
    "cleaned_file_path  \n",
    "\n",
    "\n"
   ]
  },
  {
   "cell_type": "code",
   "execution_count": 39,
   "metadata": {},
   "outputs": [
    {
     "name": "stdout",
     "output_type": "stream",
     "text": [
      "Movies only in File 2:\n",
      " Empty DataFrame\n",
      "Columns: [movie_id, movie_name, year, certificate, runtime, genre, rating, description, director, star, votes, gross(in $), normalized_rating]\n",
      "Index: []\n"
     ]
    },
    {
     "data": {
      "text/plain": [
       "2885"
      ]
     },
     "execution_count": 39,
     "metadata": {},
     "output_type": "execute_result"
    }
   ],
   "source": [
    "import pandas as pd\n",
    "\n",
    "# Load both CSV files\n",
    "df1 = pd.read_csv(\"c:/TakeYourFilm/Dataset/scifi.csv\")  # First CSV file\n",
    "df2 = pd.read_csv(\"c:/TakeYourFilm/Cleaned_dataset/cleaned_scifi.csv\")  # Second CSV file\n",
    "\n",
    "# Ensure column names match exactly\n",
    "movie_col = \"movie_name\"  # Change this if your column name is different\n",
    "\n",
    "# Convert to lowercase and strip spaces for better matching\n",
    "df1[movie_col] = df1[movie_col].str.lower().str.strip()\n",
    "df2[movie_col] = df2[movie_col].str.lower().str.strip()\n",
    "\n",
    "# Find movies that exist in both files\n",
    "common_movies = df1[df1[movie_col].isin(df2[movie_col])]\n",
    "\n",
    "# Find movies only in file1\n",
    "unique_to_file1 = df1[~df1[movie_col].isin(df2[movie_col])]\n",
    "\n",
    "# Find movies only in file2\n",
    "unique_to_file2 = df2[~df2[movie_col].isin(df1[movie_col])]\n",
    "\n",
    "# Display results\n",
    "# print(\"Common Movies:\\n\", common_movies)\n",
    "# print(\"Movies only in File 1:\\n\", unique_to_file1.movie_name)\n",
    "print(\"Movies only in File 2:\\n\", unique_to_file2)\n",
    "unique_to_file1[movie_col].count()\n"
   ]
  },
  {
   "cell_type": "code",
   "execution_count": 7,
   "metadata": {},
   "outputs": [
    {
     "name": "stdout",
     "output_type": "stream",
     "text": [
      "Missing movie_name count before handling: 0\n",
      "Missing movie_name count before handling: 0\n"
     ]
    }
   ],
   "source": [
    "df = pd.read_csv(cleaned_file_path, encoding=\"utf-8\")\n",
    "print(\"Missing movie_name count before handling:\", df['movie_name'].isnull().sum())\n",
    "df = df.dropna(subset=['movie_name'])\n",
    "print(\"Missing movie_name count before handling:\", df['movie_name'].isnull().sum())"
   ]
  },
  {
   "cell_type": "code",
   "execution_count": 41,
   "metadata": {},
   "outputs": [],
   "source": [
    "df.to_csv(\"c:/TakeYourFilm/Cleaned_dataset/cleaned_scifi.csv\", index=False)"
   ]
  }
 ],
 "metadata": {
  "kernelspec": {
   "display_name": "Python 3",
   "language": "python",
   "name": "python3"
  },
  "language_info": {
   "codemirror_mode": {
    "name": "ipython",
    "version": 3
   },
   "file_extension": ".py",
   "mimetype": "text/x-python",
   "name": "python",
   "nbconvert_exporter": "python",
   "pygments_lexer": "ipython3",
   "version": "3.12.3"
  }
 },
 "nbformat": 4,
 "nbformat_minor": 2
}
