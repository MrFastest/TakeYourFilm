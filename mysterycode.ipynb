{
 "cells": [
  {
   "cell_type": "code",
   "execution_count": 5,
   "metadata": {},
   "outputs": [
    {
     "name": "stdout",
     "output_type": "stream",
     "text": [
      "✅ File exists! Proceeding to load...\n",
      "✅ Dataset loaded successfully!\n",
      "     movie_id                         movie_name  year certificate  runtime  \\\n",
      "0  tt15679400                 Knock at the Cabin  2023           R  100 min   \n",
      "1   tt5433140                             Fast X  2023         NaN      NaN   \n",
      "2   tt3915174       Puss in Boots: The Last Wish  2022          PG  102 min   \n",
      "3  tt10954600  Ant-Man and the Wasp: Quantumania  2023       PG-13  125 min   \n",
      "4  tt11564570                        Glass Onion  2022       PG-13  139 min   \n",
      "\n",
      "                          genre  rating  \\\n",
      "0     Horror, Mystery, Thriller     6.4   \n",
      "1        Action, Crime, Mystery     NaN   \n",
      "2  Animation, Adventure, Comedy     7.9   \n",
      "3     Action, Adventure, Comedy     6.6   \n",
      "4          Comedy, Crime, Drama     7.2   \n",
      "\n",
      "                                         description  \\\n",
      "0  While vacationing, a girl and her parents are ...   \n",
      "1  Dom Toretto and his family are targeted by the...   \n",
      "2  When Puss in Boots discovers that his passion ...   \n",
      "3  Scott Lang and Hope Van Dyne, along with Hank ...   \n",
      "4  Famed Southern detective Benoit Blanc travels ...   \n",
      "\n",
      "                          director       director_id  \\\n",
      "0               M. Night Shyamalan  /name/nm0796117/   \n",
      "1                  Louis Leterrier  /name/nm0504642/   \n",
      "2  Joel Crawford, \\nJanuel Mercado  /name/nm3150455/   \n",
      "3                      Peyton Reed  /name/nm0715636/   \n",
      "4                     Rian Johnson  /name/nm0426059/   \n",
      "\n",
      "                                                star  \\\n",
      "0  Dave Bautista, \\nJonathan Groff, \\nRupert Grin...   \n",
      "1  Vin Diesel, \\nJordana Brewster, \\nTyrese Gibso...   \n",
      "2  Antonio Banderas, \\nSalma Hayek, \\nHarvey Guil...   \n",
      "3  Paul Rudd, \\nEvangeline Lilly, \\nJonathan Majo...   \n",
      "4  Daniel Craig, \\nEdward Norton, \\nKate Hudson, ...   \n",
      "\n",
      "                                             star_id     votes  gross(in $)  \n",
      "0  /name/nm1176985/,/name/nm2676147/,/name/nm0342...   17991.0          NaN  \n",
      "1  /name/nm0004874/,/name/nm0108287/,/name/nm0879...       NaN          NaN  \n",
      "2  /name/nm2591093/,/name/nm0000104/,/name/nm0000...   75016.0          NaN  \n",
      "3  /name/nm0748620/,/name/nm1431940/,/name/nm3718...    5396.0          NaN  \n",
      "4  /name/nm0185819/,/name/nm0001570/,/name/nm0005...  333315.0          NaN  \n"
     ]
    }
   ],
   "source": [
    "import os\n",
    "import pandas as pd\n",
    "import numpy as np\n",
    "\n",
    "file_path = \"E:/TakeYourFilm/Dataset/mystery.csv\"  \n",
    "\n",
    "if os.path.exists(file_path):\n",
    "    print(\"✅ File exists! Proceeding to load...\")\n",
    "else:\n",
    "    print(\"❌ File not found! Check the path.\")\n",
    "\n",
    "\n",
    "try:\n",
    "    mystery_df = pd.read_csv(file_path, encoding=\"utf-8\")\n",
    "    print(\"✅ Dataset loaded successfully!\")\n",
    "    print(mystery_df.head())  # Show first few rows\n",
    "except FileNotFoundError:\n",
    "    print(\"❌ Error: File not found. Check the file path.\")\n",
    "except Exception as e:\n",
    "    print(f\"❌ Error loading file: {e}\")"
   ]
  },
  {
   "cell_type": "code",
   "execution_count": null,
   "metadata": {},
   "outputs": [
    {
     "name": "stderr",
     "output_type": "stream",
     "text": [
      "<>:20: SyntaxWarning: invalid escape sequence '\\d'\n",
      "<>:20: SyntaxWarning: invalid escape sequence '\\d'\n",
      "C:\\Users\\Admin\\AppData\\Local\\Temp\\ipykernel_7264\\1710512481.py:20: SyntaxWarning: invalid escape sequence '\\d'\n",
      "  mystery_df['runtime'] = mystery_df['runtime'].str.extract('(\\d+)')\n"
     ]
    },
    {
     "data": {
      "text/plain": [
       "'E:/TakeYourFilm/Cleaned_dataset/cleaned_mystery.csv'"
      ]
     },
     "execution_count": 6,
     "metadata": {},
     "output_type": "execute_result"
    }
   ],
   "source": [
    "\n",
    "\n",
    "mystery_df.fillna({\n",
    "    \"year\": \"Unknown\",\n",
    "    \"certificate\": \"Unknown\",\n",
    "    \"runtime\": \"Unknown\",\n",
    "    \"director\": \"Unknown\",\n",
    "    \"star\": \"Unknown\",\n",
    "    \"rating\": 0.0,  \n",
    "    \"votes\": 0.0,\n",
    "    \"gross(in $)\": 0.0\n",
    "}, inplace=True)\n",
    "\n",
    "mystery_df['year'] = pd.to_numeric(mystery_df['year'], errors='coerce').fillna(0).astype(int)\n",
    "\n",
    "mystery_df['runtime'] = mystery_df['runtime'].astype(str)\n",
    "\n",
    "mystery_df['runtime'] = mystery_df['runtime'].str.extract('(\\d+)')\n",
    "\n",
    "mystery_df['runtime'] = pd.to_numeric(mystery_df['runtime'], errors='coerce').fillna(0).astype(int)\n",
    "mystery_df.drop(columns=['director_id'],inplace=True)\n",
    "mystery_df.drop(columns=['star_id'],inplace=True)\n",
    "\n",
    "mystery_df['normalized_rating'] = mystery_df['rating'] / 10\n",
    "\n",
    "mystery_df = mystery_df[mystery_df['genre'].str.contains(\"Mystery\", na=False)]\n",
    "mystery_df[\"genre\"] = 'Mystery'\n",
    "\n",
    "cleaned_file_path = \"E:/TakeYourFilm/Cleaned_dataset/cleaned_mystery.csv\"\n",
    "mystery_df.to_csv(cleaned_file_path, index=False)\n",
    "\n",
    "cleaned_file_path  \n",
    "\n",
    "\n"
   ]
  },
  {
   "cell_type": "code",
   "execution_count": 7,
   "metadata": {},
   "outputs": [
    {
     "name": "stdout",
     "output_type": "stream",
     "text": [
      "Missing movie_name count before handling: 1\n",
      "Missing movie_name count before handling: 0\n"
     ]
    }
   ],
   "source": [
    "df = pd.read_csv(cleaned_file_path, encoding=\"utf-8\")\n",
    "print(\"Missing movie_name count before handling:\", df['movie_name'].isnull().sum())\n",
    "df = df.dropna(subset=['movie_name'])\n",
    "print(\"Missing movie_name count before handling:\", df['movie_name'].isnull().sum())\n"
   ]
  },
  {
   "cell_type": "code",
   "execution_count": 8,
   "metadata": {},
   "outputs": [],
   "source": [
    "df.to_csv(\"E:/TakeYourFilm/Cleaned_dataset/cleaned_mystery.csv\", index=False)"
   ]
  }
 ],
 "metadata": {
  "kernelspec": {
   "display_name": "Python 3",
   "language": "python",
   "name": "python3"
  },
  "language_info": {
   "codemirror_mode": {
    "name": "ipython",
    "version": 3
   },
   "file_extension": ".py",
   "mimetype": "text/x-python",
   "name": "python",
   "nbconvert_exporter": "python",
   "pygments_lexer": "ipython3",
   "version": "3.12.3"
  }
 },
 "nbformat": 4,
 "nbformat_minor": 2
}
