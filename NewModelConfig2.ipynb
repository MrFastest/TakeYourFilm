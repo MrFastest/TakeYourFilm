{
 "cells": [
  {
   "cell_type": "code",
   "execution_count": 24,
   "metadata": {},
   "outputs": [
    {
     "name": "stdout",
     "output_type": "stream",
     "text": [
      "Features (X):\n",
      "    genre  rating     votes\n",
      "0  Action     6.9  204835.0\n",
      "1  Action     7.8  295119.0\n",
      "2  Action     6.5   26220.0\n",
      "3  Action     8.0  327858.0\n",
      "4  Action     0.0       0.0\n",
      "\n",
      "Target Variable (Y):\n",
      "   normalized_rating\n",
      "0               0.69\n",
      "1               0.78\n",
      "2               0.65\n",
      "3               0.80\n",
      "4               0.00\n"
     ]
    }
   ],
   "source": [
    "import pandas as pd\n",
    "\n",
    "# Load the dataset\n",
    "df = pd.read_csv(r\"E:\\TakeYourFilm\\Cleaned_dataset\\merged_movies.csv\")\n",
    "\n",
    "# Define features and target variable\n",
    "features = ['genre', 'rating', 'votes']\n",
    "target = ['normalized_rating']\n",
    "\n",
    "# Separate features (X) and target variable (y)\n",
    "X = df[features]\n",
    "y = df[target]\n",
    "\n",
    "# Display initial data\n",
    "print(\"Features (X):\")\n",
    "print(X.head())\n",
    "\n",
    "print(\"\\nTarget Variable (Y):\")\n",
    "print(y.head())\n"
   ]
  },
  {
   "cell_type": "code",
   "execution_count": 25,
   "metadata": {},
   "outputs": [
    {
     "name": "stdout",
     "output_type": "stream",
     "text": [
      "Processed Features Shape: (238230, 10)\n"
     ]
    }
   ],
   "source": [
    "from sklearn.preprocessing import OneHotEncoder, StandardScaler\n",
    "\n",
    "# One-Hot Encoding for Genre\n",
    "encoder = OneHotEncoder(sparse_output=False)\n",
    "genre_encoded = encoder.fit_transform(df[['genre']])\n",
    "\n",
    "# Normalize rating and votes\n",
    "scaler = StandardScaler()\n",
    "scaled_features = scaler.fit_transform(df[['rating', 'votes']])\n",
    "\n",
    "# Combine encoded genre with scaled numerical features\n",
    "import numpy as np\n",
    "X_processed = np.hstack((genre_encoded, scaled_features))\n",
    "\n",
    "print(\"Processed Features Shape:\", X_processed.shape)\n"
   ]
  },
  {
   "cell_type": "code",
   "execution_count": null,
   "metadata": {},
   "outputs": [
    {
     "name": "stdout",
     "output_type": "stream",
     "text": [
      "Mean Squared Error: 0.00\n"
     ]
    }
   ],
   "source": [
    "from sklearn.model_selection import train_test_split\n",
    "from sklearn.ensemble import RandomForestRegressor\n",
    "from sklearn.metrics import mean_squared_error\n",
    "\n",
    "# Split data into train and test sets\n",
    "X_train, X_test, y_train, y_test = train_test_split(X_processed, y, test_size=0.2, random_state=42)\n",
    "\n",
    "# Train model\n",
    "model = RandomForestRegressor(n_estimators=100, random_state=42)\n",
    "model.fit(X_train, y_train.values.ravel())\n",
    "# how ravel() works =  [[[10]]] -> [10]\n",
    "# Predict and evaluate\n",
    "y_pred = model.predict(X_test)\n",
    "mse = mean_squared_error(y_test, y_pred)\n",
    "print(f\"Mean Squared Error: {mse:.2f}\")\n"
   ]
  },
  {
   "cell_type": "code",
   "execution_count": null,
   "metadata": {},
   "outputs": [
    {
     "name": "stdout",
     "output_type": "stream",
     "text": [
      "                                             movie_name  rating  votes  \\\n",
      "108707           Nerazumevalica (Understandinglessness)     9.9   52.0   \n",
      "108444                                      Mrugtrushna     9.8  419.0   \n",
      "107537                      Unbounded - Animated Series     9.7    7.0   \n",
      "111398                                     Pullu Rising     9.6   29.0   \n",
      "108576                                 Adam & the Water     9.5   11.0   \n",
      "109378                                              7 7     9.4   11.0   \n",
      "108412  Kamen Rider Geats × Revice: Movie Battle Royale     9.4   11.0   \n",
      "106764                                         Spamalot     9.4   12.0   \n",
      "108300                                    La otra magia     9.4    5.0   \n",
      "112230                              The World of Kapata     9.4   77.0   \n",
      "\n",
      "        predicted_score  \n",
      "108707             0.99  \n",
      "108444             0.98  \n",
      "107537             0.97  \n",
      "111398             0.96  \n",
      "108576             0.95  \n",
      "109378             0.94  \n",
      "108412             0.94  \n",
      "106764             0.94  \n",
      "108300             0.94  \n",
      "112230             0.94  \n"
     ]
    }
   ],
   "source": [
    "import numpy as np\n",
    "\n",
    "def recommend_movies():\n",
    "    \n",
    "    genre_name = input(\"Enter a movie genre: \").strip().lower()\n",
    "\n",
    "    genre_movies = df[df['genre'].str.contains(genre_name, case=False, na=False)]\n",
    "    \n",
    "    if genre_movies.empty:\n",
    "        print(f\"No movies found for genre: {genre_name}\")\n",
    "        return None\n",
    "    \n",
    "    X_genre = genre_movies[features]\n",
    "    \n",
    "    genre_encoded = encoder.transform(X_genre[['genre']])\n",
    "    scaled_features = scaler.transform(X_genre[['rating', 'votes']])\n",
    "    X_genre_processed = np.hstack((genre_encoded, scaled_features))\n",
    "\n",
    "    predicted_scores = model.predict(X_genre_processed)\n",
    "    \n",
    "    genre_movies = genre_movies.copy()\n",
    "    genre_movies['predicted_score'] = predicted_scores\n",
    "    top_movies = genre_movies.sort_values(by='predicted_score', ascending=False).head(10)\n",
    "\n",
    "    return top_movies[['movie_name', 'rating', 'votes', 'predicted_score']]\n",
    "\n",
    "recommended_movies = recommend_movies()\n",
    "\n",
    "# Display results if movies are found\n",
    "if recommended_movies is not None:\n",
    "    print(recommended_movies)\n"
   ]
  },
  {
   "cell_type": "code",
   "execution_count": null,
   "metadata": {},
   "outputs": [
    {
     "name": "stdout",
     "output_type": "stream",
     "text": [
      "Model saved successfully!\n"
     ]
    }
   ],
   "source": [
    "import joblib\n",
    "\n",
    "joblib.dump(model, \"film_model.pkl\")\n",
    "print(\"Model saved successfully!\")\n"
   ]
  },
  {
   "cell_type": "code",
   "execution_count": null,
   "metadata": {},
   "outputs": [
    {
     "name": "stdout",
     "output_type": "stream",
     "text": [
      "Encoder saved successfully!\n"
     ]
    }
   ],
   "source": [
    "import joblib\n",
    "\n",
    "joblib.dump(encoder, \"encoder.pkl\")\n",
    "print(\"Encoder saved successfully!\")\n"
   ]
  },
  {
   "cell_type": "code",
   "execution_count": null,
   "metadata": {},
   "outputs": [
    {
     "name": "stdout",
     "output_type": "stream",
     "text": [
      "Scaler saved successfully!\n"
     ]
    }
   ],
   "source": [
    "import joblib\n",
    "\n",
    "joblib.dump(scaler, \"scaler.pkl\")\n",
    "print(\"Scaler saved successfully!\")\n"
   ]
  }
 ],
 "metadata": {
  "kernelspec": {
   "display_name": "Python 3",
   "language": "python",
   "name": "python3"
  },
  "language_info": {
   "codemirror_mode": {
    "name": "ipython",
    "version": 3
   },
   "file_extension": ".py",
   "mimetype": "text/x-python",
   "name": "python",
   "nbconvert_exporter": "python",
   "pygments_lexer": "ipython3",
   "version": "3.12.3"
  }
 },
 "nbformat": 4,
 "nbformat_minor": 2
}
