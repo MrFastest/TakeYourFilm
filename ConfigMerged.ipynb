{
 "cells": [
  {
   "cell_type": "code",
   "execution_count": null,
   "metadata": {},
   "outputs": [
    {
     "name": "stderr",
     "output_type": "stream",
     "text": [
      "<>:4: SyntaxWarning: invalid escape sequence '\\T'\n",
      "<>:5: SyntaxWarning: invalid escape sequence '\\T'\n",
      "<>:6: SyntaxWarning: invalid escape sequence '\\T'\n",
      "<>:7: SyntaxWarning: invalid escape sequence '\\T'\n",
      "<>:8: SyntaxWarning: invalid escape sequence '\\T'\n",
      "<>:9: SyntaxWarning: invalid escape sequence '\\T'\n",
      "<>:10: SyntaxWarning: invalid escape sequence '\\T'\n",
      "<>:11: SyntaxWarning: invalid escape sequence '\\T'\n",
      "<>:17: SyntaxWarning: invalid escape sequence '\\T'\n",
      "<>:4: SyntaxWarning: invalid escape sequence '\\T'\n",
      "<>:5: SyntaxWarning: invalid escape sequence '\\T'\n",
      "<>:6: SyntaxWarning: invalid escape sequence '\\T'\n",
      "<>:7: SyntaxWarning: invalid escape sequence '\\T'\n",
      "<>:8: SyntaxWarning: invalid escape sequence '\\T'\n",
      "<>:9: SyntaxWarning: invalid escape sequence '\\T'\n",
      "<>:10: SyntaxWarning: invalid escape sequence '\\T'\n",
      "<>:11: SyntaxWarning: invalid escape sequence '\\T'\n",
      "<>:17: SyntaxWarning: invalid escape sequence '\\T'\n",
      "C:\\Users\\Admin\\AppData\\Local\\Temp\\ipykernel_6844\\3279397164.py:4: SyntaxWarning: invalid escape sequence '\\T'\n",
      "  file_paths = [\"E:\\TakeYourFilm\\Cleaned_dataset\\cleaned_action.csv\",\n",
      "C:\\Users\\Admin\\AppData\\Local\\Temp\\ipykernel_6844\\3279397164.py:5: SyntaxWarning: invalid escape sequence '\\T'\n",
      "  \"E:\\TakeYourFilm\\Cleaned_dataset\\cleaned_horror.csv\",\n",
      "C:\\Users\\Admin\\AppData\\Local\\Temp\\ipykernel_6844\\3279397164.py:6: SyntaxWarning: invalid escape sequence '\\T'\n",
      "  \"E:\\TakeYourFilm\\Cleaned_dataset\\cleaned_mystery.csv\",\n",
      "C:\\Users\\Admin\\AppData\\Local\\Temp\\ipykernel_6844\\3279397164.py:7: SyntaxWarning: invalid escape sequence '\\T'\n",
      "  \"E:\\TakeYourFilm\\Cleaned_dataset\\cleaned_fantasy.csv\",\n",
      "C:\\Users\\Admin\\AppData\\Local\\Temp\\ipykernel_6844\\3279397164.py:8: SyntaxWarning: invalid escape sequence '\\T'\n",
      "  \"E:\\TakeYourFilm\\Cleaned_dataset\\cleaned_romance.csv\",\n",
      "C:\\Users\\Admin\\AppData\\Local\\Temp\\ipykernel_6844\\3279397164.py:9: SyntaxWarning: invalid escape sequence '\\T'\n",
      "  \"E:\\TakeYourFilm\\Cleaned_dataset\\cleaned_family.csv\",\n",
      "C:\\Users\\Admin\\AppData\\Local\\Temp\\ipykernel_6844\\3279397164.py:10: SyntaxWarning: invalid escape sequence '\\T'\n",
      "  \"E:\\TakeYourFilm\\Cleaned_dataset\\cleaned_scifi.csv\",\n",
      "C:\\Users\\Admin\\AppData\\Local\\Temp\\ipykernel_6844\\3279397164.py:11: SyntaxWarning: invalid escape sequence '\\T'\n",
      "  \"E:\\TakeYourFilm\\Cleaned_dataset\\cleaned_thriller.csv\"]\n",
      "C:\\Users\\Admin\\AppData\\Local\\Temp\\ipykernel_6844\\3279397164.py:17: SyntaxWarning: invalid escape sequence '\\T'\n",
      "  df.to_csv(\"E:\\TakeYourFilm\\Cleaned_dataset\\merged_movies.csv\", index=False)\n"
     ]
    },
    {
     "name": "stdout",
     "output_type": "stream",
     "text": [
      "✅ All genre datasets merged successfully!\n"
     ]
    }
   ],
   "source": [
    "import pandas as pd\n",
    "import glob\n",
    "\n",
    "file_paths = [\"E:\\TakeYourFilm\\Cleaned_dataset\\cleaned_action.csv\",\n",
    "              \"E:\\TakeYourFilm\\Cleaned_dataset\\cleaned_horror.csv\",\n",
    "              \"E:\\TakeYourFilm\\Cleaned_dataset\\cleaned_mystery.csv\",\n",
    "              \"E:\\TakeYourFilm\\Cleaned_dataset\\cleaned_fantasy.csv\",\n",
    "              \"E:\\TakeYourFilm\\Cleaned_dataset\\cleaned_romance.csv\",\n",
    "              \"E:\\TakeYourFilm\\Cleaned_dataset\\cleaned_family.csv\",\n",
    "              \"E:\\TakeYourFilm\\Cleaned_dataset\\cleaned_scifi.csv\",\n",
    "              \"E:\\TakeYourFilm\\Cleaned_dataset\\cleaned_thriller.csv\"] \n",
    "\n",
    "\n",
    "df = pd.concat([pd.read_csv(file) for file in file_paths], ignore_index=True)\n",
    "\n",
    "\n",
    "df.to_csv(\"E:\\TakeYourFilm\\Cleaned_dataset\\merged_movies.csv\", index=False)\n",
    "\n",
    "print(\"✅ All genre datasets merged successfully!\")\n"
   ]
  }
 ],
 "metadata": {
  "kernelspec": {
   "display_name": "Python 3",
   "language": "python",
   "name": "python3"
  },
  "language_info": {
   "codemirror_mode": {
    "name": "ipython",
    "version": 3
   },
   "file_extension": ".py",
   "mimetype": "text/x-python",
   "name": "python",
   "nbconvert_exporter": "python",
   "pygments_lexer": "ipython3",
   "version": "3.12.3"
  }
 },
 "nbformat": 4,
 "nbformat_minor": 2
}
