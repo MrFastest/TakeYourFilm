{
 "cells": [
  {
   "cell_type": "code",
   "execution_count": 3,
   "metadata": {},
   "outputs": [
    {
     "name": "stdout",
     "output_type": "stream",
     "text": [
      "File exists! Proceeding to load...\n"
     ]
    }
   ],
   "source": [
    "import os\n",
    "import pandas as pd\n",
    "import numpy as np\n",
    "\n",
    "file_path = \"E:/TakeYourFilm/Dataset/fantasy.csv\"  \n",
    "\n",
    "if os.path.exists(file_path):\n",
    "    print(\"File exists! Proceeding to load...\")\n",
    "else:\n",
    "    print(\"File not found! Check the path.\")\n"
   ]
  },
  {
   "cell_type": "code",
   "execution_count": 4,
   "metadata": {},
   "outputs": [
    {
     "name": "stdout",
     "output_type": "stream",
     "text": [
      "✅ Dataset loaded successfully!\n",
      "<class 'pandas.core.frame.DataFrame'>\n",
      "RangeIndex: 17163 entries, 0 to 17162\n",
      "Data columns (total 14 columns):\n",
      " #   Column       Non-Null Count  Dtype  \n",
      "---  ------       --------------  -----  \n",
      " 0   movie_id     17163 non-null  object \n",
      " 1   movie_name   17163 non-null  object \n",
      " 2   year         14349 non-null  object \n",
      " 3   certificate  4463 non-null   object \n",
      " 4   runtime      12003 non-null  object \n",
      " 5   genre        17163 non-null  object \n",
      " 6   rating       10447 non-null  float64\n",
      " 7   description  17163 non-null  object \n",
      " 8   director     15728 non-null  object \n",
      " 9   director_id  15728 non-null  object \n",
      " 10  star         14128 non-null  object \n",
      " 11  star_id      14476 non-null  object \n",
      " 12  votes        10447 non-null  float64\n",
      " 13  gross(in $)  1410 non-null   float64\n",
      "dtypes: float64(3), object(11)\n",
      "memory usage: 1.8+ MB\n"
     ]
    }
   ],
   "source": [
    "try:\n",
    "    fantasy_df = pd.read_csv(file_path, encoding=\"utf-8\")\n",
    "    print(\"✅ Dataset loaded successfully!\")\n",
    "    # print(fantasy_df.head()) \n",
    "except FileNotFoundError:\n",
    "    print(\"❌ Error: File not found. Check the file path.\")\n",
    "except Exception as e:\n",
    "    print(f\"❌ Error loading file: {e}\")\n",
    "\n",
    "fantasy_df.info()"
   ]
  },
  {
   "cell_type": "code",
   "execution_count": 5,
   "metadata": {},
   "outputs": [
    {
     "data": {
      "text/plain": [
       "'E:/TakeYourFilm/Cleaned_dataset/cleaned_fantasy.csv'"
      ]
     },
     "execution_count": 5,
     "metadata": {},
     "output_type": "execute_result"
    }
   ],
   "source": [
    "\n",
    "\n",
    "fantasy_df.fillna({\n",
    "    \"year\": \"Unknown\",\n",
    "    \"certificate\": \"Unknown\",\n",
    "    \"runtime\": \"Unknown\",\n",
    "    \"director\": \"Unknown\",\n",
    "    \"star\": \"Unknown\",\n",
    "    \"rating\": 0.0,  \n",
    "    \"votes\": 0.0,\n",
    "    \"gross(in $)\": 0.0\n",
    "}, inplace=True)\n",
    "\n",
    "fantasy_df['year'] = pd.to_numeric(fantasy_df['year'], errors='coerce').fillna(0).astype(int)\n",
    "\n",
    "fantasy_df['runtime'] = fantasy_df['runtime'].astype(str)\n",
    "\n",
    "fantasy_df['runtime'] = fantasy_df['runtime'].str.extract(r'(\\d+)')\n",
    "\n",
    "fantasy_df['runtime'] = pd.to_numeric(fantasy_df['runtime'], errors='coerce').fillna(0).astype(int)\n",
    "\n",
    "fantasy_df['normalized_rating'] = fantasy_df['rating'] / 10\n",
    "fantasy_df.drop(columns=['director_id', 'star_id'], inplace=True, errors='ignore')\n",
    "\n",
    "fantasy_df = fantasy_df[fantasy_df['genre'].str.contains(\"Fantasy\", na=False)]\n",
    "fantasy_df[\"genre\"] = 'Fantasy'\n",
    "\n",
    "cleaned_file_path = \"E:/TakeYourFilm/Cleaned_dataset/cleaned_fantasy.csv\"\n",
    "fantasy_df.to_csv(cleaned_file_path, index=False)\n",
    "\n",
    "cleaned_file_path  \n",
    "\n",
    "\n"
   ]
  },
  {
   "cell_type": "code",
   "execution_count": 4,
   "metadata": {},
   "outputs": [
    {
     "name": "stdout",
     "output_type": "stream",
     "text": [
      "Movies only in File 2:\n",
      " Empty DataFrame\n",
      "Columns: [movie_id, movie_name, year, certificate, runtime, genre, rating, description, director, star, votes, gross(in $), normalized_rating]\n",
      "Index: []\n"
     ]
    },
    {
     "data": {
      "text/plain": [
       "2304"
      ]
     },
     "execution_count": 4,
     "metadata": {},
     "output_type": "execute_result"
    }
   ],
   "source": [
    "import pandas as pd\n",
    "\n",
    "# Load both CSV files\n",
    "df1 = pd.read_csv(\"c:/TakeYourFilm/Dataset/fantasy.csv\")  # First CSV file\n",
    "df2 = pd.read_csv(\"c:/TakeYourFilm/Cleaned_dataset/cleaned_fantasy.csv\")  # Second CSV file\n",
    "\n",
    "# Ensure column names match exactly\n",
    "movie_col = \"movie_name\"  # Change this if your column name is different\n",
    "\n",
    "# Convert to lowercase and strip spaces for better matching\n",
    "df1[movie_col] = df1[movie_col].str.lower().str.strip()\n",
    "df2[movie_col] = df2[movie_col].str.lower().str.strip()\n",
    "\n",
    "# Find movies that exist in both files\n",
    "common_movies = df1[df1[movie_col].isin(df2[movie_col])]\n",
    "\n",
    "# Find movies only in file1\n",
    "unique_to_file1 = df1[~df1[movie_col].isin(df2[movie_col])]\n",
    "\n",
    "# Find movies only in file2\n",
    "unique_to_file2 = df2[~df2[movie_col].isin(df1[movie_col])]\n",
    "\n",
    "# Display results\n",
    "# print(\"Common Movies:\\n\", common_movies)\n",
    "# print(\"Movies only in File 1:\\n\", unique_to_file1.movie_name)\n",
    "print(\"Movies only in File 2:\\n\", unique_to_file2)\n",
    "unique_to_file1[movie_col].count()\n"
   ]
  },
  {
   "cell_type": "code",
   "execution_count": 6,
   "metadata": {},
   "outputs": [
    {
     "name": "stdout",
     "output_type": "stream",
     "text": [
      "Missing movie_name count before handling: 0\n",
      "Missing movie_name count before handling: 0\n"
     ]
    }
   ],
   "source": [
    "df = pd.read_csv(cleaned_file_path, encoding=\"utf-8\")\n",
    "print(\"Missing movie_name count before handling:\", df['movie_name'].isnull().sum())\n",
    "df = df.dropna(subset=['movie_name'])\n",
    "print(\"Missing movie_name count before handling:\", df['movie_name'].isnull().sum())"
   ]
  },
  {
   "cell_type": "code",
   "execution_count": null,
   "metadata": {},
   "outputs": [],
   "source": [
    "df.to_csv(\"E:/TakeYourFilm/Cleaned_dataset/cleaned_fantasy.csv\", index=False)"
   ]
  }
 ],
 "metadata": {
  "kernelspec": {
   "display_name": "Python 3",
   "language": "python",
   "name": "python3"
  },
  "language_info": {
   "codemirror_mode": {
    "name": "ipython",
    "version": 3
   },
   "file_extension": ".py",
   "mimetype": "text/x-python",
   "name": "python",
   "nbconvert_exporter": "python",
   "pygments_lexer": "ipython3",
   "version": "3.12.3"
  }
 },
 "nbformat": 4,
 "nbformat_minor": 2
}
