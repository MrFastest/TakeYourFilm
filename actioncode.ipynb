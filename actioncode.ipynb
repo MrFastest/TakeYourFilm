{
 "cells": [
  {
   "cell_type": "code",
   "execution_count": 1,
   "metadata": {},
   "outputs": [
    {
     "name": "stdout",
     "output_type": "stream",
     "text": [
      "✅ File exists! Proceeding to load...\n"
     ]
    }
   ],
   "source": [
    "import os\n",
    "import pandas as pd\n",
    "import numpy as np\n",
    "\n",
    "file_path = \"E:/TakeYourFilm/Dataset/action.csv\"  \n",
    "\n",
    "if os.path.exists(file_path):\n",
    "    print(\"✅ File exists! Proceeding to load...\")\n",
    "else:\n",
    "    print(\"❌ File not found! Check the path.\")\n"
   ]
  },
  {
   "cell_type": "code",
   "execution_count": null,
   "metadata": {},
   "outputs": [
    {
     "name": "stdout",
     "output_type": "stream",
     "text": [
      "✅ Dataset loaded successfully!\n",
      "    movie_id                         movie_name  year certificate  runtime  \\\n",
      "0  tt9114286     Black Panther: Wakanda Forever  2022       PG-13  161 min   \n",
      "1  tt1630029           Avatar: The Way of Water  2022       PG-13  192 min   \n",
      "2  tt5884796                              Plane  2023           R  107 min   \n",
      "3  tt6710474  Everything Everywhere All at Once  2022           R  139 min   \n",
      "4  tt5433140                             Fast X  2023         NaN      NaN   \n",
      "\n",
      "                        genre  rating  \\\n",
      "0    Action, Adventure, Drama     6.9   \n",
      "1  Action, Adventure, Fantasy     7.8   \n",
      "2            Action, Thriller     6.5   \n",
      "3   Action, Adventure, Comedy     8.0   \n",
      "4      Action, Crime, Mystery     NaN   \n",
      "\n",
      "                                         description  \\\n",
      "0  The people of Wakanda fight to protect their h...   \n",
      "1  Jake Sully lives with his newfound family form...   \n",
      "2  A pilot finds himself caught in a war zone aft...   \n",
      "3  A middle-aged Chinese immigrant is swept up in...   \n",
      "4  Dom Toretto and his family are targeted by the...   \n",
      "\n",
      "                       director       director_id  \\\n",
      "0                  Ryan Coogler  /name/nm3363032/   \n",
      "1                 James Cameron  /name/nm0000116/   \n",
      "2          Jean-François Richet  /name/nm0724938/   \n",
      "3  Dan Kwan, \\nDaniel Scheinert  /name/nm3453283/   \n",
      "4               Louis Leterrier  /name/nm0504642/   \n",
      "\n",
      "                                                star  \\\n",
      "0  Letitia Wright, \\nLupita Nyong'o, \\nDanai Guri...   \n",
      "1  Sam Worthington, \\nZoe Saldana, \\nSigourney We...   \n",
      "2  Gerard Butler, \\nMike Colter, \\nTony Goldwyn, ...   \n",
      "3  Michelle Yeoh, \\nStephanie Hsu, \\nJamie Lee Cu...   \n",
      "4  Vin Diesel, \\nJordana Brewster, \\nTyrese Gibso...   \n",
      "\n",
      "                                             star_id     votes  gross(in $)  \n",
      "0  /name/nm4004793/,/name/nm2143282/,/name/nm1775...  204835.0          NaN  \n",
      "1  /name/nm0941777/,/name/nm0757855/,/name/nm0000...  295119.0          NaN  \n",
      "2  /name/nm0124930/,/name/nm1591496/,/name/nm0001...   26220.0          NaN  \n",
      "3  /name/nm3215397/,/name/nm0000706/,/name/nm3513...  327858.0          NaN  \n",
      "4  /name/nm0004874/,/name/nm0108287/,/name/nm0879...       NaN          NaN  \n"
     ]
    }
   ],
   "source": [
    "try:\n",
    "    action_df = pd.read_csv(file_path, encoding=\"utf-8\")\n",
    "    print(\"✅ Dataset loaded successfully!\")\n",
    "    print(action_df.head()) \n",
    "except FileNotFoundError:\n",
    "    print(\"❌ Error: File not found. Check the file path.\")\n",
    "except Exception as e:\n",
    "    print(f\"❌ Error loading file: {e}\")"
   ]
  },
  {
   "cell_type": "code",
   "execution_count": null,
   "metadata": {},
   "outputs": [
    {
     "name": "stderr",
     "output_type": "stream",
     "text": [
      "<>:20: SyntaxWarning: invalid escape sequence '\\d'\n",
      "<>:20: SyntaxWarning: invalid escape sequence '\\d'\n",
      "C:\\Users\\Admin\\AppData\\Local\\Temp\\ipykernel_4044\\4026317613.py:20: SyntaxWarning: invalid escape sequence '\\d'\n",
      "  action_df['runtime'] = action_df['runtime'].str.extract('(\\d+)')\n"
     ]
    },
    {
     "data": {
      "text/plain": [
       "'E:/TakeYourFilm/Cleaned_dataset/cleaned_action.csv'"
      ]
     },
     "execution_count": 3,
     "metadata": {},
     "output_type": "execute_result"
    }
   ],
   "source": [
    "\n",
    "\n",
    "action_df.fillna({\n",
    "    \"year\": \"Unknown\",\n",
    "    \"certificate\": \"Unknown\",\n",
    "    \"runtime\": \"Unknown\",\n",
    "    \"director\": \"Unknown\",\n",
    "    \"star\": \"Unknown\",\n",
    "    \"rating\": 0.0,  \n",
    "    \"votes\": 0.0,\n",
    "    \"gross(in $)\": 0.0\n",
    "}, inplace=True)\n",
    "\n",
    "action_df['year'] = pd.to_numeric(action_df['year'], errors='coerce').fillna(0).astype(int)\n",
    "\n",
    "action_df['runtime'] = action_df['runtime'].astype(str)\n",
    "\n",
    "action_df['runtime'] = action_df['runtime'].str.extract('(\\d+)')\n",
    "\n",
    "action_df['runtime'] = pd.to_numeric(action_df['runtime'], errors='coerce').fillna(0).astype(int)\n",
    "\n",
    "action_df['normalized_rating'] = action_df['rating'] / 10\n",
    "action_df.drop(columns=['director_id'],inplace=True)\n",
    "action_df.drop(columns=['star_id'],inplace=True)\n",
    "\n",
    "action_df = action_df[action_df['genre'].str.contains(\"Action\", na=False)]\n",
    "action_df[\"genre\"] = 'Action'\n",
    "\n",
    "cleaned_file_path = \"E:/TakeYourFilm/Cleaned_dataset/cleaned_action.csv\"\n",
    "action_df.to_csv(cleaned_file_path, index=False)\n",
    "\n",
    "cleaned_file_path  \n",
    "\n",
    "\n"
   ]
  },
  {
   "cell_type": "code",
   "execution_count": 4,
   "metadata": {},
   "outputs": [
    {
     "name": "stdout",
     "output_type": "stream",
     "text": [
      "Missing movie_name count before handling: 1\n",
      "Missing movie_name count before handling: 0\n"
     ]
    }
   ],
   "source": [
    "df = pd.read_csv(cleaned_file_path, encoding=\"utf-8\")\n",
    "print(\"Missing movie_name count before handling:\", df['movie_name'].isnull().sum())\n",
    "df = df.dropna(subset=['movie_name'])\n",
    "print(\"Missing movie_name count before handling:\", df['movie_name'].isnull().sum())"
   ]
  },
  {
   "cell_type": "code",
   "execution_count": 5,
   "metadata": {},
   "outputs": [],
   "source": [
    "df.to_csv(\"E:/TakeYourFilm/Cleaned_dataset/cleaned_action.csv\", index=False)"
   ]
  }
 ],
 "metadata": {
  "kernelspec": {
   "display_name": "Python 3",
   "language": "python",
   "name": "python3"
  },
  "language_info": {
   "codemirror_mode": {
    "name": "ipython",
    "version": 3
   },
   "file_extension": ".py",
   "mimetype": "text/x-python",
   "name": "python",
   "nbconvert_exporter": "python",
   "pygments_lexer": "ipython3",
   "version": "3.12.3"
  }
 },
 "nbformat": 4,
 "nbformat_minor": 2
}
