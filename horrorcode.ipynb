{
 "cells": [
  {
   "cell_type": "code",
   "execution_count": null,
   "metadata": {},
   "outputs": [
    {
     "name": "stdout",
     "output_type": "stream",
     "text": [
      "File exists! Proceeding to load...\n",
      " Dataset loaded successfully!\n",
      "     movie_id          movie_name  year certificate  runtime  \\\n",
      "0  tt15679400  Knock at the Cabin  2023           R  100 min   \n",
      "1   tt9764362            The Menu  2022           R  107 min   \n",
      "2   tt8760708               M3GAN  2022       PG-13  102 min   \n",
      "3  tt13051810         Viking Wolf  2022       TV-MA   97 min   \n",
      "4  tt10365998       Infinity Pool  2023           R  117 min   \n",
      "\n",
      "                       genre  rating  \\\n",
      "0  Horror, Mystery, Thriller     6.4   \n",
      "1           Horror, Thriller     7.2   \n",
      "2   Horror, Sci-Fi, Thriller     6.4   \n",
      "3           Horror, Thriller     5.1   \n",
      "4     Crime, Horror, Mystery     6.5   \n",
      "\n",
      "                                         description            director  \\\n",
      "0  While vacationing, a girl and her parents are ...  M. Night Shyamalan   \n",
      "1  A young couple travels to a remote island to e...          Mark Mylod   \n",
      "2  A robotics engineer at a toy company builds a ...    Gerard Johnstone   \n",
      "3  Thale (17) has just moved with her parents to ...       Stig Svendsen   \n",
      "4  James and Em Foster are enjoying an all-inclus...  Brandon Cronenberg   \n",
      "\n",
      "        director_id                                               star  \\\n",
      "0  /name/nm0796117/  Dave Bautista, \\nJonathan Groff, \\nRupert Grin...   \n",
      "1  /name/nm0617042/  Ralph Fiennes, \\nAnya Taylor-Joy, \\nNicholas H...   \n",
      "2  /name/nm2067421/  Allison Williams, \\nViolet McGraw, \\nRonny Chi...   \n",
      "3  /name/nm1457169/  Liv Mjönes, \\nElli Rhiannon Müller Osborne, \\n...   \n",
      "4  /name/nm0188722/  Alexander Skarsgård, \\nMia Goth, \\nCleopatra C...   \n",
      "\n",
      "                                             star_id     votes  gross(in $)  \n",
      "0  /name/nm1176985/,/name/nm2676147/,/name/nm0342...   17991.0          NaN  \n",
      "1  /name/nm0000146/,/name/nm5896355/,/name/nm0396...  232052.0          NaN  \n",
      "2  /name/nm4129745/,/name/nm8627157/,/name/nm5307...   62458.0          NaN  \n",
      "3  /name/nm1203571/,/name/nm9602953/,/name/nm7416...    3872.0          NaN  \n",
      "4  /name/nm0002907/,/name/nm5301405/,/name/nm1671...    6955.0          NaN  \n"
     ]
    }
   ],
   "source": [
    "import os\n",
    "import pandas as pd\n",
    "import numpy as np\n",
    "\n",
    "file_path = \"E:/TakeYourFilm/Dataset/horror.csv\"  \n",
    "\n",
    "if os.path.exists(file_path):\n",
    "    print(\"File exists! Proceeding to load...\")\n",
    "else:\n",
    "    print(\" File not found! Check the path.\")\n",
    "\n",
    "\n",
    "try:\n",
    "    horror_df = pd.read_csv(file_path, encoding=\"utf-8\")\n",
    "    print(\" Dataset loaded successfully!\")\n",
    "    print(horror_df.head())  \n",
    "except FileNotFoundError:\n",
    "    print(\"Error: File not found. Check the file path.\")\n",
    "except Exception as e:\n",
    "    print(f\"Error loading file: {e}\")"
   ]
  },
  {
   "cell_type": "code",
   "execution_count": null,
   "metadata": {},
   "outputs": [
    {
     "name": "stderr",
     "output_type": "stream",
     "text": [
      "<>:20: SyntaxWarning: invalid escape sequence '\\d'\n",
      "<>:20: SyntaxWarning: invalid escape sequence '\\d'\n",
      "C:\\Users\\Admin\\AppData\\Local\\Temp\\ipykernel_9424\\1641632133.py:20: SyntaxWarning: invalid escape sequence '\\d'\n",
      "  horror_df['runtime'] = horror_df['runtime'].str.extract('(\\d+)')\n"
     ]
    },
    {
     "data": {
      "text/plain": [
       "'E:/TakeYourFilm/Cleaned_dataset/cleaned_horror.csv'"
      ]
     },
     "execution_count": 2,
     "metadata": {},
     "output_type": "execute_result"
    }
   ],
   "source": [
    "\n",
    "\n",
    "horror_df.fillna({\n",
    "    \"year\": \"Unknown\",\n",
    "    \"certificate\": \"Unknown\",\n",
    "    \"runtime\": \"Unknown\",\n",
    "    \"director\": \"Unknown\",\n",
    "    \"star\": \"Unknown\",\n",
    "    \"rating\": 0.0, \n",
    "    \"votes\": 0.0,\n",
    "    \"gross(in $)\": 0.0\n",
    "}, inplace=True)\n",
    "\n",
    "horror_df['year'] = pd.to_numeric(horror_df['year'], errors='coerce').fillna(0).astype(int)\n",
    "\n",
    "horror_df['runtime'] = horror_df['runtime'].astype(str)\n",
    "\n",
    "horror_df['runtime'] = horror_df['runtime'].str.extract('(\\d+)')\n",
    "\n",
    "horror_df['runtime'] = pd.to_numeric(horror_df['runtime'], errors='coerce').fillna(0).astype(int)\n",
    "\n",
    "\n",
    "horror_df['normalized_rating'] = horror_df['rating'] / 10\n",
    "horror_df.drop(columns=['director_id'],inplace=True)\n",
    "horror_df.drop(columns=['star_id'],inplace=True)\n",
    "\n",
    "horror_df = horror_df[horror_df['genre'].str.contains(\"Horror\", na=False)]\n",
    "horror_df[\"genre\"] = 'Horror'\n",
    "\n",
    "\n",
    "cleaned_file_path = \"E:/TakeYourFilm/Cleaned_dataset/cleaned_horror.csv\"\n",
    "horror_df.to_csv(cleaned_file_path, index=False)\n",
    "\n",
    "cleaned_file_path  \n",
    "\n",
    "\n"
   ]
  },
  {
   "cell_type": "code",
   "execution_count": 3,
   "metadata": {},
   "outputs": [
    {
     "name": "stdout",
     "output_type": "stream",
     "text": [
      "Missing movie_name count before handling: 0\n",
      "Missing movie_name count before handling: 0\n"
     ]
    }
   ],
   "source": [
    "df = pd.read_csv(cleaned_file_path, encoding=\"utf-8\")\n",
    "print(\"Missing movie_name count before handling:\", df['movie_name'].isnull().sum())\n",
    "df = df.dropna(subset=['movie_name'])\n",
    "print(\"Missing movie_name count before handling:\", df['movie_name'].isnull().sum())"
   ]
  }
 ],
 "metadata": {
  "kernelspec": {
   "display_name": "Python 3",
   "language": "python",
   "name": "python3"
  },
  "language_info": {
   "codemirror_mode": {
    "name": "ipython",
    "version": 3
   },
   "file_extension": ".py",
   "mimetype": "text/x-python",
   "name": "python",
   "nbconvert_exporter": "python",
   "pygments_lexer": "ipython3",
   "version": "3.12.3"
  }
 },
 "nbformat": 4,
 "nbformat_minor": 2
}
