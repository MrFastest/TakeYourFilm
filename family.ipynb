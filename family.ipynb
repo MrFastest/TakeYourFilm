{
 "cells": [
  {
   "cell_type": "code",
   "execution_count": 2,
   "metadata": {},
   "outputs": [
    {
     "name": "stdout",
     "output_type": "stream",
     "text": [
      "✅ File exists! Proceeding to load...\n"
     ]
    }
   ],
   "source": [
    "import os\n",
    "import pandas as pd\n",
    "import numpy as np\n",
    "\n",
    "file_path = \"E:/TakeYourFilm/Dataset/family.csv\"  \n",
    "\n",
    "if os.path.exists(file_path):\n",
    "    print(\"✅ File exists! Proceeding to load...\")\n",
    "else:\n",
    "    print(\"❌ File not found! Check the path.\")\n"
   ]
  },
  {
   "cell_type": "code",
   "execution_count": 3,
   "metadata": {},
   "outputs": [
    {
     "name": "stdout",
     "output_type": "stream",
     "text": [
      "✅ Dataset loaded successfully!\n",
      "     movie_id                             movie_name  year certificate  \\\n",
      "0   tt3915174           Puss in Boots: The Last Wish  2022          PG   \n",
      "1   tt2353868                            True Spirit  2023       TV-PG   \n",
      "2  tt14668630                  Lyle, Lyle, Crocodile  2022          PG   \n",
      "3   tt6718170            The Super Mario Bros. Movie  2023          PG   \n",
      "4   tt0241527  Harry Potter and the Sorcerer's Stone  2001          PG   \n",
      "\n",
      "   runtime                         genre  rating  \\\n",
      "0  102 min  Animation, Adventure, Comedy     7.9   \n",
      "1  109 min   Adventure, Biography, Drama     6.8   \n",
      "2  106 min  Animation, Adventure, Comedy     6.1   \n",
      "3      NaN  Animation, Adventure, Comedy     NaN   \n",
      "4  152 min    Adventure, Family, Fantasy     7.6   \n",
      "\n",
      "                                         description  \\\n",
      "0  When Puss in Boots discovers that his passion ...   \n",
      "1  The story of Australian teenager, Jessica Wats...   \n",
      "2  Feature film based on the children's book abou...   \n",
      "3  The story of The Super Mario Bros. on their jo...   \n",
      "4  An orphaned boy enrolls in a school of wizardr...   \n",
      "\n",
      "                           director       director_id  \\\n",
      "0   Joel Crawford, \\nJanuel Mercado  /name/nm3150455/   \n",
      "1                    Sarah Spillane  /name/nm1417049/   \n",
      "2         Josh Gordon, \\nWill Speck  /name/nm0330347/   \n",
      "3  Aaron Horvath, \\nMichael Jelenic  /name/nm1739338/   \n",
      "4                    Chris Columbus  /name/nm0001060/   \n",
      "\n",
      "                                                star  \\\n",
      "0  Antonio Banderas, \\nSalma Hayek, \\nHarvey Guil...   \n",
      "1  Alyla Browne, \\nTeagan Croft, \\nCliff Curtis, ...   \n",
      "2  Javier Bardem, \\nWinslow Fegley, \\nShawn Mende...   \n",
      "3  Chris Pratt, \\nAnya Taylor-Joy, \\nCharlie Day,...   \n",
      "4  Daniel Radcliffe, \\nRupert Grint, \\nRichard Ha...   \n",
      "\n",
      "                                             star_id     votes  gross(in $)  \n",
      "0  /name/nm2591093/,/name/nm0000104/,/name/nm0000...   75016.0          NaN  \n",
      "1  /name/nm10752061/,/name/nm7509279/,/name/nm019...    3747.0          NaN  \n",
      "2  /name/nm0817447/,/name/nm0000849/,/name/nm9121...    8131.0          NaN  \n",
      "3  /name/nm2398585/,/name/nm0695435/,/name/nm5896...       NaN          NaN  \n",
      "4  /name/nm0705356/,/name/nm0342488/,/name/nm0001...  792448.0  317575550.0  \n",
      "<class 'pandas.core.frame.DataFrame'>\n",
      "RangeIndex: 17095 entries, 0 to 17094\n",
      "Data columns (total 14 columns):\n",
      " #   Column       Non-Null Count  Dtype  \n",
      "---  ------       --------------  -----  \n",
      " 0   movie_id     17095 non-null  object \n",
      " 1   movie_name   17095 non-null  object \n",
      " 2   year         15464 non-null  object \n",
      " 3   certificate  4613 non-null   object \n",
      " 4   runtime      13187 non-null  object \n",
      " 5   genre        17095 non-null  object \n",
      " 6   rating       11712 non-null  float64\n",
      " 7   description  17095 non-null  object \n",
      " 8   director     16208 non-null  object \n",
      " 9   director_id  16208 non-null  object \n",
      " 10  star         14952 non-null  object \n",
      " 11  star_id      15229 non-null  object \n",
      " 12  votes        11712 non-null  float64\n",
      " 13  gross(in $)  1240 non-null   float64\n",
      "dtypes: float64(3), object(11)\n",
      "memory usage: 1.8+ MB\n"
     ]
    }
   ],
   "source": [
    "try:\n",
    "    family_df = pd.read_csv(file_path, encoding=\"utf-8\")\n",
    "    print(\"✅ Dataset loaded successfully!\")\n",
    "    print(family_df.head()) \n",
    "except FileNotFoundError:\n",
    "    print(\"❌ Error: File not found. Check the file path.\")\n",
    "except Exception as e:\n",
    "    print(f\"❌ Error loading file: {e}\")\n",
    "family_df.info()"
   ]
  },
  {
   "cell_type": "code",
   "execution_count": 6,
   "metadata": {},
   "outputs": [
    {
     "data": {
      "text/plain": [
       "'E:/TakeYourFilm/Cleaned_dataset/cleaned_family.csv'"
      ]
     },
     "execution_count": 6,
     "metadata": {},
     "output_type": "execute_result"
    }
   ],
   "source": [
    "\n",
    "\n",
    "family_df.fillna({\n",
    "    \"year\": \"Unknown\",\n",
    "    \"certificate\": \"Unknown\",\n",
    "    \"runtime\": \"Unknown\",\n",
    "    \"director\": \"Unknown\",\n",
    "    \"star\": \"Unknown\",\n",
    "    \"rating\": 0.0,  \n",
    "    \"votes\": 0.0,\n",
    "    \"gross(in $)\": 0.0\n",
    "}, inplace=True)\n",
    "\n",
    "family_df['year'] = pd.to_numeric(family_df['year'], errors='coerce').fillna(0).astype(int)\n",
    "\n",
    "family_df['runtime'] = family_df['runtime'].astype(str)\n",
    "\n",
    "family_df['runtime'] = family_df['runtime'].str.extract(r'(\\d+)')\n",
    "\n",
    "family_df['runtime'] = pd.to_numeric(family_df['runtime'], errors='coerce').fillna(0).astype(int)\n",
    "\n",
    "family_df['normalized_rating'] = family_df['rating'] / 10\n",
    "family_df.drop(columns=['director_id', 'star_id'], inplace=True, errors='ignore')\n",
    "\n",
    "\n",
    "family_df = family_df[family_df['genre'].str.contains(\"Family\", na=False)]\n",
    "family_df[\"genre\"] = 'Family'\n",
    "\n",
    "cleaned_file_path = \"E:/TakeYourFilm/Cleaned_dataset/cleaned_family.csv\"\n",
    "family_df.to_csv(cleaned_file_path, index=False)\n",
    "\n",
    "cleaned_file_path  \n",
    "\n",
    "\n"
   ]
  },
  {
   "cell_type": "code",
   "execution_count": 10,
   "metadata": {},
   "outputs": [
    {
     "name": "stdout",
     "output_type": "stream",
     "text": [
      "Movies only in File 2:\n",
      " Empty DataFrame\n",
      "Columns: [movie_id, movie_name, year, certificate, runtime, genre, rating, description, director, star, votes, gross(in $), normalized_rating]\n",
      "Index: []\n"
     ]
    },
    {
     "data": {
      "text/plain": [
       "1518"
      ]
     },
     "execution_count": 10,
     "metadata": {},
     "output_type": "execute_result"
    }
   ],
   "source": [
    "import pandas as pd\n",
    "\n",
    "# Load both CSV files\n",
    "df1 = pd.read_csv(\"c:/TakeYourFilm/Dataset/family.csv\")  # First CSV file\n",
    "df2 = pd.read_csv(\"c:/TakeYourFilm/Cleaned_dataset/cleaned_family.csv\")  # Second CSV file\n",
    "\n",
    "# Ensure column names match exactly\n",
    "movie_col = \"movie_name\"  # Change this if your column name is different\n",
    "\n",
    "# Convert to lowercase and strip spaces for better matching\n",
    "df1[movie_col] = df1[movie_col].str.lower().str.strip()\n",
    "df2[movie_col] = df2[movie_col].str.lower().str.strip()\n",
    "\n",
    "# Find movies that exist in both files\n",
    "common_movies = df1[df1[movie_col].isin(df2[movie_col])]\n",
    "\n",
    "# Find movies only in file1\n",
    "unique_to_file1 = df1[~df1[movie_col].isin(df2[movie_col])]\n",
    "\n",
    "# Find movies only in file2\n",
    "unique_to_file2 = df2[~df2[movie_col].isin(df1[movie_col])]\n",
    "\n",
    "# Display results\n",
    "# print(\"Common Movies:\\n\", common_movies)\n",
    "# print(\"Movies only in File 1:\\n\", unique_to_file1.movie_name)\n",
    "print(\"Movies only in File 2:\\n\", unique_to_file2)\n",
    "unique_to_file1[movie_col].count()\n"
   ]
  },
  {
   "cell_type": "code",
   "execution_count": 7,
   "metadata": {},
   "outputs": [
    {
     "name": "stdout",
     "output_type": "stream",
     "text": [
      "Missing movie_name count before handling: 0\n",
      "Missing movie_name count before handling: 0\n"
     ]
    }
   ],
   "source": [
    "df = pd.read_csv(cleaned_file_path, encoding=\"utf-8\")\n",
    "print(\"Missing movie_name count before handling:\", df['movie_name'].isnull().sum())\n",
    "df = df.dropna(subset=['movie_name'])\n",
    "print(\"Missing movie_name count before handling:\", df['movie_name'].isnull().sum())"
   ]
  },
  {
   "cell_type": "code",
   "execution_count": 12,
   "metadata": {},
   "outputs": [],
   "source": [
    "df.to_csv(\"c:/TakeYourFilm/Cleaned_dataset/cleaned_family.csv\", index=False)"
   ]
  }
 ],
 "metadata": {
  "kernelspec": {
   "display_name": "Python 3",
   "language": "python",
   "name": "python3"
  },
  "language_info": {
   "codemirror_mode": {
    "name": "ipython",
    "version": 3
   },
   "file_extension": ".py",
   "mimetype": "text/x-python",
   "name": "python",
   "nbconvert_exporter": "python",
   "pygments_lexer": "ipython3",
   "version": "3.12.3"
  }
 },
 "nbformat": 4,
 "nbformat_minor": 2
}
